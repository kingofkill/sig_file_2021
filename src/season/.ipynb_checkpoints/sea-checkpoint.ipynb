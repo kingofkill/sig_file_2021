{
 "cells": [
  {
   "cell_type": "code",
   "execution_count": 1,
   "metadata": {},
   "outputs": [],
   "source": [
    "import os\n",
    "import numpy as np\n",
    "import pandas as pd\n",
    "import seaborn as sns\n",
    "import matplotlib.pyplot as plt\n",
    "from datetime import datetime, timedelta\n",
    "from statsmodels.tsa.seasonal import seasonal_decompose\n",
    "# Ignore harmless warnings\n",
    "import warnings\n",
    "warnings.filterwarnings(\"ignore\")"
   ]
  },
  {
   "cell_type": "code",
   "execution_count": 2,
   "metadata": {},
   "outputs": [],
   "source": [
    "%matplotlib inline"
   ]
  },
  {
   "cell_type": "code",
   "execution_count": 3,
   "metadata": {},
   "outputs": [],
   "source": [
    "def cdf(x, plot=True, *args, **kwargs):\n",
    "    x, y = sorted(x), np.arange(len(x)) / len(x)\n",
    "    return plt.plot(x, y, *args, **kwargs) if plot else (x, y)"
   ]
  },
  {
   "cell_type": "code",
   "execution_count": 4,
   "metadata": {},
   "outputs": [
    {
     "data": {
      "text/html": [
       "<div>\n",
       "<style scoped>\n",
       "    .dataframe tbody tr th:only-of-type {\n",
       "        vertical-align: middle;\n",
       "    }\n",
       "\n",
       "    .dataframe tbody tr th {\n",
       "        vertical-align: top;\n",
       "    }\n",
       "\n",
       "    .dataframe thead th {\n",
       "        text-align: right;\n",
       "    }\n",
       "</style>\n",
       "<table border=\"1\" class=\"dataframe\">\n",
       "  <thead>\n",
       "    <tr style=\"text-align: right;\">\n",
       "      <th></th>\n",
       "      <th>vm</th>\n",
       "      <th>sea_max</th>\n",
       "      <th>sea_avg</th>\n",
       "    </tr>\n",
       "  </thead>\n",
       "  <tbody>\n",
       "    <tr>\n",
       "      <th>0</th>\n",
       "      <td>+H4ZyijjXr2RW80PINxFwf9IdHfcz07r7q+G4DBEw+S/No...</td>\n",
       "      <td>0.079182</td>\n",
       "      <td>0.071222</td>\n",
       "    </tr>\n",
       "    <tr>\n",
       "      <th>0</th>\n",
       "      <td>+HqwLSMR7sJ4Zt0AG14nzPL2An1f7YvWG9fQbLjiWzqb8H...</td>\n",
       "      <td>0.222823</td>\n",
       "      <td>0.096262</td>\n",
       "    </tr>\n",
       "    <tr>\n",
       "      <th>0</th>\n",
       "      <td>+IXiKLW1j9bnQX6eCpgUBfYPq3/j3lJbRK4GrGkDVDO66p...</td>\n",
       "      <td>0.076448</td>\n",
       "      <td>0.064570</td>\n",
       "    </tr>\n",
       "    <tr>\n",
       "      <th>0</th>\n",
       "      <td>+IjaDjaRruRa6ACbfsAhOcBtPTeuKN8XrFcNXMtslzjBlP...</td>\n",
       "      <td>0.592360</td>\n",
       "      <td>0.655937</td>\n",
       "    </tr>\n",
       "    <tr>\n",
       "      <th>0</th>\n",
       "      <td>+JAJNqERJ6Ortvk9lvWuqzRj16lLDP2vJ6Di5fn/EGVCpN...</td>\n",
       "      <td>0.082861</td>\n",
       "      <td>0.073461</td>\n",
       "    </tr>\n",
       "  </tbody>\n",
       "</table>\n",
       "</div>"
      ],
      "text/plain": [
       "                                                  vm   sea_max   sea_avg\n",
       "0  +H4ZyijjXr2RW80PINxFwf9IdHfcz07r7q+G4DBEw+S/No...  0.079182  0.071222\n",
       "0  +HqwLSMR7sJ4Zt0AG14nzPL2An1f7YvWG9fQbLjiWzqb8H...  0.222823  0.096262\n",
       "0  +IXiKLW1j9bnQX6eCpgUBfYPq3/j3lJbRK4GrGkDVDO66p...  0.076448  0.064570\n",
       "0  +IjaDjaRruRa6ACbfsAhOcBtPTeuKN8XrFcNXMtslzjBlP...  0.592360  0.655937\n",
       "0  +JAJNqERJ6Ortvk9lvWuqzRj16lLDP2vJ6Di5fn/EGVCpN...  0.082861  0.073461"
      ]
     },
     "execution_count": 4,
     "metadata": {},
     "output_type": "execute_result"
    }
   ],
   "source": [
    "azure_sea = pd.read_csv('./azure_30min_sea.csv',names=['vm','sea_max','sea_avg'])\n",
    "azure_sea.head()"
   ]
  },
  {
   "cell_type": "code",
   "execution_count": 5,
   "metadata": {},
   "outputs": [
    {
     "data": {
      "text/html": [
       "<div>\n",
       "<style scoped>\n",
       "    .dataframe tbody tr th:only-of-type {\n",
       "        vertical-align: middle;\n",
       "    }\n",
       "\n",
       "    .dataframe tbody tr th {\n",
       "        vertical-align: top;\n",
       "    }\n",
       "\n",
       "    .dataframe thead th {\n",
       "        text-align: right;\n",
       "    }\n",
       "</style>\n",
       "<table border=\"1\" class=\"dataframe\">\n",
       "  <thead>\n",
       "    <tr style=\"text-align: right;\">\n",
       "      <th></th>\n",
       "      <th>vm</th>\n",
       "      <th>sea_max</th>\n",
       "      <th>sea_avg</th>\n",
       "    </tr>\n",
       "  </thead>\n",
       "  <tbody>\n",
       "    <tr>\n",
       "      <th>0</th>\n",
       "      <td>00060b8a63afed0d4a8e4066b273e7fb</td>\n",
       "      <td>0.061443</td>\n",
       "      <td>0.086028</td>\n",
       "    </tr>\n",
       "    <tr>\n",
       "      <th>0</th>\n",
       "      <td>0007b9886b07d366f7848cdd79fb245c</td>\n",
       "      <td>0.055665</td>\n",
       "      <td>0.061011</td>\n",
       "    </tr>\n",
       "    <tr>\n",
       "      <th>0</th>\n",
       "      <td>000b27c61e7ed1954fa9907918dc7c18</td>\n",
       "      <td>0.357234</td>\n",
       "      <td>0.300898</td>\n",
       "    </tr>\n",
       "    <tr>\n",
       "      <th>0</th>\n",
       "      <td>000e0f1252ab4fb0fbc3a101a1456468</td>\n",
       "      <td>0.056071</td>\n",
       "      <td>0.053473</td>\n",
       "    </tr>\n",
       "    <tr>\n",
       "      <th>0</th>\n",
       "      <td>0011042741e6f670f02914c947b46b9c</td>\n",
       "      <td>16067.000000</td>\n",
       "      <td>16067.000000</td>\n",
       "    </tr>\n",
       "  </tbody>\n",
       "</table>\n",
       "</div>"
      ],
      "text/plain": [
       "                                 vm       sea_max       sea_avg\n",
       "0  00060b8a63afed0d4a8e4066b273e7fb      0.061443      0.086028\n",
       "0  0007b9886b07d366f7848cdd79fb245c      0.055665      0.061011\n",
       "0  000b27c61e7ed1954fa9907918dc7c18      0.357234      0.300898\n",
       "0  000e0f1252ab4fb0fbc3a101a1456468      0.056071      0.053473\n",
       "0  0011042741e6f670f02914c947b46b9c  16067.000000  16067.000000"
      ]
     },
     "execution_count": 5,
     "metadata": {},
     "output_type": "execute_result"
    }
   ],
   "source": [
    "ali_sea=pd.read_csv('./ali_30min_sea.csv',names=['vm','sea_max','sea_avg'])\n",
    "ali_sea.head()"
   ]
  },
  {
   "cell_type": "code",
   "execution_count": 6,
   "metadata": {},
   "outputs": [],
   "source": [
    "ali_sea.fillna(0, inplace=True)\n",
    "azure_sea.fillna(0, inplace=True)"
   ]
  },
  {
   "cell_type": "code",
   "execution_count": 7,
   "metadata": {},
   "outputs": [
    {
     "data": {
      "image/png": "[encoded data removed]",
      "text/plain": [
       "<Figure size 432x288 with 1 Axes>"
      ]
     },
     "metadata": {
      "needs_background": "light"
     },
     "output_type": "display_data"
    }
   ],
   "source": [
    "ali_sea_avg=ali_sea[ali_sea['sea_avg']!=16067]\n",
    "azu_sea_avg=azure_sea[azure_sea['sea_avg']!=16067]\n",
    "ali_sea_max=ali_sea[ali_sea['sea_max']!=16067]\n",
    "azu_sea_max=azure_sea[azure_sea['sea_max']!=16067]\n",
    "\n",
    "#cdf(azu_sea_max['sea_max'],label='Azure',color='b',ls='-')\n",
    "#cdf(ali_sea_max['sea_max'],label='Our Edge',color='r',ls='-')\n",
    "sns.distplot(ali_sea_max['sea_max'],label='Edge max',hist=False, kde_kws={'cumulative': True,'color':'b','ls':'-'})\n",
    "sns.distplot(azu_sea_max['sea_max'],label='Azure max',hist=False, kde_kws={'cumulative': True,'color':'r','ls':'-'})\n",
    "\n",
    "sns.distplot(ali_sea_avg['sea_avg'],label='Edge avg', hist=False, kde_kws={'cumulative': True,'color':'b','ls':'-.'})\n",
    "sns.distplot(azu_sea_avg['sea_avg'],label='Azure avg',hist=False, kde_kws={'cumulative': True,'color':'r','ls':'-.'})\n",
    "plt.title('*_cpu utilization seasonality')\n",
    "plt.xlabel('cpu seasonality')\n",
    "plt.legend(fontsize='large')\n",
    "plt.tick_params(labelsize = 13)"
   ]
  },
  {
   "cell_type": "code",
   "execution_count": 9,
   "metadata": {},
   "outputs": [
    {
     "data": {
      "image/png": "[encoded data removed]",
      "text/plain": [
       "<Figure size 432x288 with 1 Axes>"
      ]
     },
     "metadata": {
      "needs_background": "light"
     },
     "output_type": "display_data"
    }
   ],
   "source": [
    "ali_sea_max=ali_sea[ali_sea['sea_max']!=16067]\n",
    "azu_sea_max=azure_sea[azure_sea['sea_max']!=16067]\n",
    "\n",
    "#cdf(azu_sea_max['sea_max'],label='Azure',color='b',ls='-')\n",
    "#cdf(ali_sea_max['sea_max'],label='Our Edge',color='r',ls='-')\n",
    "sns.distplot(ali_sea_max['sea_max'],label='Our Edge',hist=False, kde_kws={'cumulative': True,'color':'b','ls':'-'})\n",
    "sns.distplot(azu_sea_max['sea_max'],label='Azure Cloud',hist=False, kde_kws={'cumulative': True,'color':'r','ls':'-'})\n",
    "\n",
    "plt.title('Max cpu utilization seasonality')\n",
    "plt.xlabel('cpu seasonality')\n",
    "plt.legend(fontsize='large')\n",
    "plt.tick_params(labelsize = 13)"
   ]
  },
  {
   "cell_type": "code",
   "execution_count": 11,
   "metadata": {},
   "outputs": [
    {
     "data": {
      "text/plain": [
       "0.2035276245035621"
      ]
     },
     "execution_count": 11,
     "metadata": {},
     "output_type": "execute_result"
    }
   ],
   "source": [
    "ali_sea_max['sea_max'].median()"
   ]
  },
  {
   "cell_type": "code",
   "execution_count": 12,
   "metadata": {},
   "outputs": [
    {
     "data": {
      "text/plain": [
       "0.3632864832169846"
      ]
     },
     "execution_count": 12,
     "metadata": {},
     "output_type": "execute_result"
    }
   ],
   "source": [
    "ali_sea_max['sea_max'].mean()"
   ]
  },
  {
   "cell_type": "code",
   "execution_count": 13,
   "metadata": {},
   "outputs": [
    {
     "data": {
      "text/plain": [
       "0.18491409101380574"
      ]
     },
     "execution_count": 13,
     "metadata": {},
     "output_type": "execute_result"
    }
   ],
   "source": [
    "azu_sea_max['sea_max'].median()"
   ]
  },
  {
   "cell_type": "code",
   "execution_count": 14,
   "metadata": {},
   "outputs": [
    {
     "data": {
      "text/plain": [
       "0.2685072228247535"
      ]
     },
     "execution_count": 14,
     "metadata": {},
     "output_type": "execute_result"
    }
   ],
   "source": [
    "azu_sea_max['sea_max'].mean()"
   ]
  },
  {
   "cell_type": "code",
   "execution_count": 10,
   "metadata": {},
   "outputs": [
    {
     "data": {
      "image/png": "[encoded data removed]",
      "text/plain": [
       "<Figure size 432x288 with 1 Axes>"
      ]
     },
     "metadata": {
      "needs_background": "light"
     },
     "output_type": "display_data"
    }
   ],
   "source": [
    "ali_sea_avg=ali_sea[ali_sea['sea_avg']!=16067]\n",
    "azu_sea_avg=azure_sea[azure_sea['sea_avg']!=16067]\n",
    "\n",
    "sns.distplot(ali_sea_avg['sea_avg'],label='Our Edge', hist=False, kde_kws={'cumulative': True,'color':'b','ls':'-'})\n",
    "sns.distplot(azu_sea_avg['sea_avg'],label='Azure Cloud',hist=False, kde_kws={'cumulative': True,'color':'r','ls':'-'})\n",
    "plt.title('Avg cpu utilization seasonality')\n",
    "plt.xlabel('cpu seasonality')\n",
    "plt.legend(fontsize='large')\n",
    "plt.tick_params(labelsize = 13)"
   ]
  },
  {
   "cell_type": "code",
   "execution_count": 15,
   "metadata": {},
   "outputs": [
    {
     "data": {
      "text/plain": [
       "0.29434062115803084"
      ]
     },
     "execution_count": 15,
     "metadata": {},
     "output_type": "execute_result"
    }
   ],
   "source": [
    "ali_sea_avg['sea_avg'].median()"
   ]
  },
  {
   "cell_type": "code",
   "execution_count": 16,
   "metadata": {},
   "outputs": [
    {
     "data": {
      "text/plain": [
       "0.41651553026105115"
      ]
     },
     "execution_count": 16,
     "metadata": {},
     "output_type": "execute_result"
    }
   ],
   "source": [
    "ali_sea_avg['sea_avg'].mean()"
   ]
  },
  {
   "cell_type": "code",
   "execution_count": 17,
   "metadata": {},
   "outputs": [
    {
     "data": {
      "text/plain": [
       "0.17926906576984414"
      ]
     },
     "execution_count": 17,
     "metadata": {},
     "output_type": "execute_result"
    }
   ],
   "source": [
    "azu_sea_avg['sea_avg'].median()"
   ]
  },
  {
   "cell_type": "code",
   "execution_count": 18,
   "metadata": {},
   "outputs": [
    {
     "data": {
      "text/plain": [
       "0.2610985416974269"
      ]
     },
     "execution_count": 18,
     "metadata": {},
     "output_type": "execute_result"
    }
   ],
   "source": [
    "azu_sea_avg['sea_avg'].mean()"
   ]
  },
  {
   "cell_type": "code",
   "execution_count": null,
   "metadata": {},
   "outputs": [],
   "source": []
  }
 ],
 "metadata": {
  "kernelspec": {
   "display_name": "Python 3",
   "language": "python",
   "name": "python3"
  },
  "language_info": {
   "codemirror_mode": {
    "name": "ipython",
    "version": 3
   },
   "file_extension": ".py",
   "mimetype": "text/x-python",
   "name": "python",
   "nbconvert_exporter": "python",
   "pygments_lexer": "ipython3",
   "version": "3.7.2"
  }
 },
 "nbformat": 4,
 "nbformat_minor": 4
}
